{
 "cells": [
  {
   "cell_type": "code",
   "execution_count": 14,
   "id": "261e4904",
   "metadata": {
    "scrolled": false
   },
   "outputs": [],
   "source": [
    "from surprise import Dataset, Reader, SVD, SVDpp, NMF\n",
    "from surprise.model_selection import cross_validate"
   ]
  },
  {
   "cell_type": "code",
   "execution_count": 15,
   "id": "97bffd5f",
   "metadata": {},
   "outputs": [],
   "source": [
    "data = Dataset.load_builtin('ml-100k')"
   ]
  },
  {
   "cell_type": "code",
   "execution_count": 16,
   "id": "52f1708b",
   "metadata": {},
   "outputs": [],
   "source": [
    "algo_svd = SVD()\n",
    "algo_svdpp = SVDpp()\n",
    "algo_nmf = NMF()"
   ]
  },
  {
   "cell_type": "code",
   "execution_count": 17,
   "id": "e168a58b",
   "metadata": {},
   "outputs": [
    {
     "name": "stdout",
     "output_type": "stream",
     "text": [
      "Evaluating RMSE of algorithm SVD on 3 split(s).\n",
      "\n",
      "                  Fold 1  Fold 2  Fold 3  Mean    Std     \n",
      "RMSE (testset)    0.9450  0.9436  0.9459  0.9448  0.0010  \n",
      "Fit time          0.67    0.67    0.66    0.67    0.01    \n",
      "Test time         0.24    0.24    0.25    0.24    0.00    \n",
      "Evaluating RMSE of algorithm SVDpp on 3 split(s).\n",
      "\n",
      "                  Fold 1  Fold 2  Fold 3  Mean    Std     \n",
      "RMSE (testset)    0.9338  0.9221  0.9271  0.9277  0.0048  \n",
      "Fit time          9.54    9.49    9.47    9.50    0.03    \n",
      "Test time         3.96    3.87    3.82    3.88    0.06    \n",
      "Evaluating RMSE of algorithm NMF on 3 split(s).\n",
      "\n",
      "                  Fold 1  Fold 2  Fold 3  Mean    Std     \n",
      "RMSE (testset)    0.9746  0.9648  0.9768  0.9721  0.0052  \n",
      "Fit time          1.10    1.12    1.09    1.10    0.01    \n",
      "Test time         0.24    0.17    0.23    0.21    0.03    \n"
     ]
    }
   ],
   "source": [
    "cv_results_svd = cross_validate(algo_svd, data, measures=['RMSE'], cv=3, verbose=True)\n",
    "cv_results_svdpp = cross_validate(algo_svdpp, data, measures=['RMSE'], cv=3, verbose=True)\n",
    "cv_results_nmf = cross_validate(algo_nmf, data, measures=['RMSE'], cv=3, verbose=True)"
   ]
  },
  {
   "cell_type": "code",
   "execution_count": 18,
   "id": "7d127841",
   "metadata": {},
   "outputs": [],
   "source": [
    "rmse_svd = cv_results_svd['test_rmse'].mean()\n",
    "rmse_svdpp = cv_results_svdpp['test_rmse'].mean()\n",
    "rmse_nmf = cv_results_nmf['test_rmse'].mean()"
   ]
  },
  {
   "cell_type": "code",
   "execution_count": 19,
   "id": "4009b938",
   "metadata": {},
   "outputs": [
    {
     "name": "stdout",
     "output_type": "stream",
     "text": [
      "SVD:0.9448411502433552\n",
      "SVD++:0.9276501011572406\n",
      "NMF:0.97206900642305\n"
     ]
    }
   ],
   "source": [
    "print(f\"SVD:{rmse_svd}\")\n",
    "print(f\"SVD++:{rmse_svdpp}\")\n",
    "print(f\"NMF:{rmse_nmf}\")"
   ]
  },
  {
   "cell_type": "markdown",
   "id": "8400217a",
   "metadata": {},
   "source": [
    "Висновок: Найкращий результат показує метод NMF"
   ]
  }
 ],
 "metadata": {
  "kernelspec": {
   "display_name": "Python 3 (ipykernel)",
   "language": "python",
   "name": "python3"
  },
  "language_info": {
   "codemirror_mode": {
    "name": "ipython",
    "version": 3
   },
   "file_extension": ".py",
   "mimetype": "text/x-python",
   "name": "python",
   "nbconvert_exporter": "python",
   "pygments_lexer": "ipython3",
   "version": "3.10.9"
  }
 },
 "nbformat": 4,
 "nbformat_minor": 5
}
